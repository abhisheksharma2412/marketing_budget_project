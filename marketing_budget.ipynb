{
  "cells": [
    {
      "cell_type": "code",
      "source": [
        "!pip install pandas numpy matplotlib seaborn scikit-learn shap kagglehub azureml-core\n",
        "\n"
      ],
      "outputs": [
        {
          "output_type": "stream",
          "name": "stdout",
          "text": "Requirement already satisfied: pandas in /anaconda/envs/azureml_py38/lib/python3.10/site-packages (1.3.5)\nRequirement already satisfied: numpy in /anaconda/envs/azureml_py38/lib/python3.10/site-packages (1.23.5)\nRequirement already satisfied: matplotlib in /anaconda/envs/azureml_py38/lib/python3.10/site-packages (3.6.3)\nRequirement already satisfied: seaborn in /home/azureuser/.local/lib/python3.10/site-packages (0.13.2)\nRequirement already satisfied: scikit-learn in /anaconda/envs/azureml_py38/lib/python3.10/site-packages (1.5.1)\nRequirement already satisfied: shap in /anaconda/envs/azureml_py38/lib/python3.10/site-packages (0.43.0)\nRequirement already satisfied: kagglehub in /anaconda/envs/azureml_py38/lib/python3.10/site-packages (0.3.10)\nRequirement already satisfied: azureml-core in /anaconda/envs/azureml_py38/lib/python3.10/site-packages (1.57.0)\nRequirement already satisfied: pytz>=2017.3 in /anaconda/envs/azureml_py38/lib/python3.10/site-packages (from pandas) (2022.5)\nRequirement already satisfied: python-dateutil>=2.7.3 in /anaconda/envs/azureml_py38/lib/python3.10/site-packages (from pandas) (2.9.0.post0)\nRequirement already satisfied: fonttools>=4.22.0 in /anaconda/envs/azureml_py38/lib/python3.10/site-packages (from matplotlib) (4.51.0)\nRequirement already satisfied: cycler>=0.10 in /anaconda/envs/azureml_py38/lib/python3.10/site-packages (from matplotlib) (0.12.1)\nRequirement already satisfied: kiwisolver>=1.0.1 in /anaconda/envs/azureml_py38/lib/python3.10/site-packages (from matplotlib) (1.4.5)\nRequirement already satisfied: pyparsing>=2.2.1 in /anaconda/envs/azureml_py38/lib/python3.10/site-packages (from matplotlib) (3.1.2)\nRequirement already satisfied: contourpy>=1.0.1 in /anaconda/envs/azureml_py38/lib/python3.10/site-packages (from matplotlib) (1.2.1)\nRequirement already satisfied: pillow>=6.2.0 in /anaconda/envs/azureml_py38/lib/python3.10/site-packages (from matplotlib) (9.2.0)\nRequirement already satisfied: packaging>=20.0 in /anaconda/envs/azureml_py38/lib/python3.10/site-packages (from matplotlib) (24.1)\nRequirement already satisfied: joblib>=1.2.0 in /anaconda/envs/azureml_py38/lib/python3.10/site-packages (from scikit-learn) (1.2.0)\nRequirement already satisfied: scipy>=1.6.0 in /anaconda/envs/azureml_py38/lib/python3.10/site-packages (from scikit-learn) (1.10.1)\nRequirement already satisfied: threadpoolctl>=3.1.0 in /anaconda/envs/azureml_py38/lib/python3.10/site-packages (from scikit-learn) (3.5.0)\nRequirement already satisfied: numba in /anaconda/envs/azureml_py38/lib/python3.10/site-packages (from shap) (0.56.4)\nRequirement already satisfied: cloudpickle in /anaconda/envs/azureml_py38/lib/python3.10/site-packages (from shap) (2.2.1)\nRequirement already satisfied: tqdm>=4.27.0 in /anaconda/envs/azureml_py38/lib/python3.10/site-packages (from shap) (4.66.4)\nRequirement already satisfied: slicer==0.0.7 in /anaconda/envs/azureml_py38/lib/python3.10/site-packages (from shap) (0.0.7)\nRequirement already satisfied: requests in /anaconda/envs/azureml_py38/lib/python3.10/site-packages (from kagglehub) (2.32.3)\nRequirement already satisfied: pyyaml in /anaconda/envs/azureml_py38/lib/python3.10/site-packages (from kagglehub) (6.0.1)\nRequirement already satisfied: argcomplete<4 in /anaconda/envs/azureml_py38/lib/python3.10/site-packages (from azureml-core) (3.3.0)\nRequirement already satisfied: knack<0.12.0 in /anaconda/envs/azureml_py38/lib/python3.10/site-packages (from azureml-core) (0.11.0)\nRequirement already satisfied: azure-mgmt-resource<=24.0.0,>=15.0.0 in /anaconda/envs/azureml_py38/lib/python3.10/site-packages (from azureml-core) (23.1.1)\nRequirement already satisfied: azure-mgmt-network<=26.0.0 in /anaconda/envs/azureml_py38/lib/python3.10/site-packages (from azureml-core) (25.1.0)\nRequirement already satisfied: pyopenssl<25.0.0 in /anaconda/envs/azureml_py38/lib/python3.10/site-packages (from azureml-core) (23.0.0)\nRequirement already satisfied: azure-core<2.0.0 in /anaconda/envs/azureml_py38/lib/python3.10/site-packages (from azureml-core) (1.30.2)\nRequirement already satisfied: adal<=1.2.7,>=1.2.0 in /anaconda/envs/azureml_py38/lib/python3.10/site-packages (from azureml-core) (1.2.7)\nRequirement already satisfied: msrest<=0.7.1,>=0.5.1 in /anaconda/envs/azureml_py38/lib/python3.10/site-packages (from azureml-core) (0.7.1)\nRequirement already satisfied: docker<8.0.0 in /anaconda/envs/azureml_py38/lib/python3.10/site-packages (from azureml-core) (7.1.0)\nRequirement already satisfied: msrestazure<=0.7,>=0.4.33 in /anaconda/envs/azureml_py38/lib/python3.10/site-packages (from azureml-core) (0.6.4.post1)\nRequirement already satisfied: pkginfo in /anaconda/envs/azureml_py38/lib/python3.10/site-packages (from azureml-core) (1.11.1)\nRequirement already satisfied: backports.tempfile in /anaconda/envs/azureml_py38/lib/python3.10/site-packages (from azureml-core) (1.0)\nRequirement already satisfied: azure-mgmt-storage<=22.0.0,>=16.0.0 in /anaconda/envs/azureml_py38/lib/python3.10/site-packages (from azureml-core) (21.2.0)\nRequirement already satisfied: ndg-httpsclient<=0.5.1 in /anaconda/envs/azureml_py38/lib/python3.10/site-packages (from azureml-core) (0.5.1)\nRequirement already satisfied: azure-common<2.0.0,>=1.1.12 in /anaconda/envs/azureml_py38/lib/python3.10/site-packages (from azureml-core) (1.1.28)\nRequirement already satisfied: pathspec<1.0.0 in /anaconda/envs/azureml_py38/lib/python3.10/site-packages (from azureml-core) (0.12.1)\nRequirement already satisfied: urllib3<3.0.0,>1.26.17 in /anaconda/envs/azureml_py38/lib/python3.10/site-packages (from azureml-core) (1.26.19)\nRequirement already satisfied: jmespath<2.0.0 in /anaconda/envs/azureml_py38/lib/python3.10/site-packages (from azureml-core) (0.10.0)\nRequirement already satisfied: PyJWT<3.0.0 in /anaconda/envs/azureml_py38/lib/python3.10/site-packages (from azureml-core) (2.4.0)\nRequirement already satisfied: msal<2.0.0,>=1.15.0 in /anaconda/envs/azureml_py38/lib/python3.10/site-packages (from azureml-core) (1.30.0)\nRequirement already satisfied: paramiko<4.0.0,>=2.0.8 in /anaconda/envs/azureml_py38/lib/python3.10/site-packages (from azureml-core) (3.4.0)\nRequirement already satisfied: msal-extensions<=2.0.0,>=0.3.0 in /anaconda/envs/azureml_py38/lib/python3.10/site-packages (from azureml-core) (1.2.0)\nRequirement already satisfied: azure-mgmt-containerregistry<11,>=8.2.0 in /anaconda/envs/azureml_py38/lib/python3.10/site-packages (from azureml-core) (10.3.0)\nRequirement already satisfied: jsonpickle<4.0.0 in /anaconda/envs/azureml_py38/lib/python3.10/site-packages (from azureml-core) (3.2.2)\nRequirement already satisfied: azure-mgmt-authorization<5,>=0.40.0 in /anaconda/envs/azureml_py38/lib/python3.10/site-packages (from azureml-core) (4.0.0)\nRequirement already satisfied: contextlib2<22.0.0 in /anaconda/envs/azureml_py38/lib/python3.10/site-packages (from azureml-core) (21.6.0)\nRequirement already satisfied: humanfriendly<11.0,>=4.7 in /anaconda/envs/azureml_py38/lib/python3.10/site-packages (from azureml-core) (10.0)\nRequirement already satisfied: azure-mgmt-keyvault<11.0.0,>=0.40.0 in /anaconda/envs/azureml_py38/lib/python3.10/site-packages (from azureml-core) (10.3.0)\nRequirement already satisfied: SecretStorage<4.0.0 in /anaconda/envs/azureml_py38/lib/python3.10/site-packages (from azureml-core) (3.3.3)\nRequirement already satisfied: azure-graphrbac<1.0.0,>=0.40.0 in /anaconda/envs/azureml_py38/lib/python3.10/site-packages (from azureml-core) (0.60.0)\nRequirement already satisfied: cryptography>=1.1.0 in /anaconda/envs/azureml_py38/lib/python3.10/site-packages (from adal<=1.2.7,>=1.2.0->azureml-core) (38.0.4)\nRequirement already satisfied: six>=1.11.0 in /anaconda/envs/azureml_py38/lib/python3.10/site-packages (from azure-core<2.0.0->azureml-core) (1.16.0)\nRequirement already satisfied: typing-extensions>=4.6.0 in /anaconda/envs/azureml_py38/lib/python3.10/site-packages (from azure-core<2.0.0->azureml-core) (4.12.2)\nRequirement already satisfied: azure-mgmt-core<2.0.0,>=1.3.2 in /anaconda/envs/azureml_py38/lib/python3.10/site-packages (from azure-mgmt-authorization<5,>=0.40.0->azureml-core) (1.4.0)\nRequirement already satisfied: isodate<1.0.0,>=0.6.1 in /anaconda/envs/azureml_py38/lib/python3.10/site-packages (from azure-mgmt-authorization<5,>=0.40.0->azureml-core) (0.6.1)\nRequirement already satisfied: tabulate in /anaconda/envs/azureml_py38/lib/python3.10/site-packages (from knack<0.12.0->azureml-core) (0.9.0)\nRequirement already satisfied: pygments in /anaconda/envs/azureml_py38/lib/python3.10/site-packages (from knack<0.12.0->azureml-core) (2.18.0)\nRequirement already satisfied: portalocker<3,>=1.4 in /anaconda/envs/azureml_py38/lib/python3.10/site-packages (from msal-extensions<=2.0.0,>=0.3.0->azureml-core) (2.10.1)\nRequirement already satisfied: requests-oauthlib>=0.5.0 in /anaconda/envs/azureml_py38/lib/python3.10/site-packages (from msrest<=0.7.1,>=0.5.1->azureml-core) (2.0.0)\nRequirement already satisfied: certifi>=2017.4.17 in /anaconda/envs/azureml_py38/lib/python3.10/site-packages (from msrest<=0.7.1,>=0.5.1->azureml-core) (2024.8.30)\nRequirement already satisfied: pyasn1>=0.1.1 in /anaconda/envs/azureml_py38/lib/python3.10/site-packages (from ndg-httpsclient<=0.5.1->azureml-core) (0.6.0)\nRequirement already satisfied: bcrypt>=3.2 in /anaconda/envs/azureml_py38/lib/python3.10/site-packages (from paramiko<4.0.0,>=2.0.8->azureml-core) (4.2.0)\nRequirement already satisfied: pynacl>=1.5 in /anaconda/envs/azureml_py38/lib/python3.10/site-packages (from paramiko<4.0.0,>=2.0.8->azureml-core) (1.5.0)\nRequirement already satisfied: idna<4,>=2.5 in /anaconda/envs/azureml_py38/lib/python3.10/site-packages (from requests->kagglehub) (3.7)\nRequirement already satisfied: charset-normalizer<4,>=2 in /anaconda/envs/azureml_py38/lib/python3.10/site-packages (from requests->kagglehub) (3.3.2)\nRequirement already satisfied: PySocks!=1.5.7,>=1.5.6 in /anaconda/envs/azureml_py38/lib/python3.10/site-packages (from requests->kagglehub) (1.7.1)\nRequirement already satisfied: jeepney>=0.6 in /anaconda/envs/azureml_py38/lib/python3.10/site-packages (from SecretStorage<4.0.0->azureml-core) (0.8.0)\nRequirement already satisfied: backports.weakref in /anaconda/envs/azureml_py38/lib/python3.10/site-packages (from backports.tempfile->azureml-core) (1.0.post1)\nRequirement already satisfied: llvmlite<0.40,>=0.39.0dev0 in /anaconda/envs/azureml_py38/lib/python3.10/site-packages (from numba->shap) (0.39.1)\nRequirement already satisfied: setuptools in /anaconda/envs/azureml_py38/lib/python3.10/site-packages (from numba->shap) (68.0.0)\nRequirement already satisfied: cffi>=1.12 in /anaconda/envs/azureml_py38/lib/python3.10/site-packages (from cryptography>=1.1.0->adal<=1.2.7,>=1.2.0->azureml-core) (1.16.0)\nRequirement already satisfied: oauthlib>=3.0.0 in /anaconda/envs/azureml_py38/lib/python3.10/site-packages (from requests-oauthlib>=0.5.0->msrest<=0.7.1,>=0.5.1->azureml-core) (3.2.2)\nRequirement already satisfied: pycparser in /anaconda/envs/azureml_py38/lib/python3.10/site-packages (from cffi>=1.12->cryptography>=1.1.0->adal<=1.2.7,>=1.2.0->azureml-core) (2.22)\n"
        }
      ],
      "execution_count": 1,
      "metadata": {
        "gather": {
          "logged": 1740673712750
        }
      }
    },
    {
      "cell_type": "code",
      "source": [
        "!pip list | grep seaborn"
      ],
      "outputs": [
        {
          "output_type": "stream",
          "name": "stdout",
          "text": "seaborn                                 0.13.2\r\n"
        }
      ],
      "execution_count": 2,
      "metadata": {
        "gather": {
          "logged": 1740670480489
        }
      }
    },
    {
      "cell_type": "code",
      "source": [
        "import sys\n",
        "print(sys.executable)\n",
        "print(sys.path)\n"
      ],
      "outputs": [
        {
          "output_type": "stream",
          "name": "stdout",
          "text": "/anaconda/envs/azureml_py310_sdkv2/bin/python\n['/anaconda/envs/azureml_py310_sdkv2/lib/python310.zip', '/anaconda/envs/azureml_py310_sdkv2/lib/python3.10', '/anaconda/envs/azureml_py310_sdkv2/lib/python3.10/lib-dynload', '', '/home/azureuser/.local/lib/python3.10/site-packages', '/anaconda/envs/azureml_py310_sdkv2/lib/python3.10/site-packages', '/anaconda/envs/azureml_py310_sdkv2/lib/python3.10/site-packages/setuptools/_vendor', '/anaconda/envs/azureml_py310_sdkv2/lib/python3.10/site-packages/azureml/_project/vendor']\n"
        }
      ],
      "execution_count": 3,
      "metadata": {
        "gather": {
          "logged": 1740673713911
        }
      }
    },
    {
      "cell_type": "code",
      "source": [
        "!pip uninstall seaborn -y\n"
      ],
      "outputs": [
        {
          "output_type": "stream",
          "name": "stdout",
          "text": "Found existing installation: seaborn 0.13.2\r\nUninstalling seaborn-0.13.2:\r\n  Successfully uninstalled seaborn-0.13.2\r\n"
        }
      ],
      "execution_count": 4,
      "metadata": {}
    },
    {
      "cell_type": "code",
      "source": [
        "!pip install seaborn --no-cache-dir --user\n"
      ],
      "outputs": [
        {
          "output_type": "stream",
          "name": "stdout",
          "text": "Collecting seaborn\n  Downloading seaborn-0.13.2-py3-none-any.whl (294 kB)\n\u001b[2K     \u001b[90m━━━━━━━━━━━━━━━━━━━━━━━━━━━━━━━━━━━━━━━\u001b[0m \u001b[32m294.9/294.9 kB\u001b[0m \u001b[31m1.7 MB/s\u001b[0m eta \u001b[36m0:00:00\u001b[0ma \u001b[36m0:00:01\u001b[0m\n\u001b[?25hRequirement already satisfied: numpy!=1.24.0,>=1.20 in /anaconda/envs/azureml_py38/lib/python3.10/site-packages (from seaborn) (1.23.5)\nRequirement already satisfied: matplotlib!=3.6.1,>=3.4 in /anaconda/envs/azureml_py38/lib/python3.10/site-packages (from seaborn) (3.6.3)\nRequirement already satisfied: pandas>=1.2 in /anaconda/envs/azureml_py38/lib/python3.10/site-packages (from seaborn) (1.3.5)\nRequirement already satisfied: pillow>=6.2.0 in /anaconda/envs/azureml_py38/lib/python3.10/site-packages (from matplotlib!=3.6.1,>=3.4->seaborn) (9.2.0)\nRequirement already satisfied: kiwisolver>=1.0.1 in /anaconda/envs/azureml_py38/lib/python3.10/site-packages (from matplotlib!=3.6.1,>=3.4->seaborn) (1.4.5)\nRequirement already satisfied: packaging>=20.0 in /anaconda/envs/azureml_py38/lib/python3.10/site-packages (from matplotlib!=3.6.1,>=3.4->seaborn) (24.1)\nRequirement already satisfied: fonttools>=4.22.0 in /anaconda/envs/azureml_py38/lib/python3.10/site-packages (from matplotlib!=3.6.1,>=3.4->seaborn) (4.51.0)\nRequirement already satisfied: python-dateutil>=2.7 in /anaconda/envs/azureml_py38/lib/python3.10/site-packages (from matplotlib!=3.6.1,>=3.4->seaborn) (2.9.0.post0)\nRequirement already satisfied: contourpy>=1.0.1 in /anaconda/envs/azureml_py38/lib/python3.10/site-packages (from matplotlib!=3.6.1,>=3.4->seaborn) (1.2.1)\nRequirement already satisfied: pyparsing>=2.2.1 in /anaconda/envs/azureml_py38/lib/python3.10/site-packages (from matplotlib!=3.6.1,>=3.4->seaborn) (3.1.2)\nRequirement already satisfied: cycler>=0.10 in /anaconda/envs/azureml_py38/lib/python3.10/site-packages (from matplotlib!=3.6.1,>=3.4->seaborn) (0.12.1)\nRequirement already satisfied: pytz>=2017.3 in /anaconda/envs/azureml_py38/lib/python3.10/site-packages (from pandas>=1.2->seaborn) (2022.5)\nRequirement already satisfied: six>=1.5 in /anaconda/envs/azureml_py38/lib/python3.10/site-packages (from python-dateutil>=2.7->matplotlib!=3.6.1,>=3.4->seaborn) (1.16.0)\nInstalling collected packages: seaborn\nSuccessfully installed seaborn-0.13.2\n"
        }
      ],
      "execution_count": 5,
      "metadata": {}
    },
    {
      "cell_type": "code",
      "source": [
        "import seaborn as sns\n",
        "print(\"Seaborn is now working!\")\n"
      ],
      "outputs": [
        {
          "output_type": "stream",
          "name": "stdout",
          "text": "Seaborn is now working!\n"
        }
      ],
      "execution_count": 15,
      "metadata": {
        "gather": {
          "logged": 1740673918100
        }
      }
    },
    {
      "cell_type": "code",
      "source": [
        "import pandas as pd\n",
        "import numpy as np\n",
        "import matplotlib.pyplot as plt\n",
        "import sklearn\n",
        "print(\"✅ All libraries loaded successfully!\")\n"
      ],
      "outputs": [
        {
          "output_type": "stream",
          "name": "stdout",
          "text": "✅ All libraries loaded successfully!\n"
        }
      ],
      "execution_count": 17,
      "metadata": {
        "gather": {
          "logged": 1740674061252
        }
      }
    },
    {
      "cell_type": "code",
      "source": [
        "!pip install --force-reinstall shap --user\n"
      ],
      "outputs": [
        {
          "output_type": "stream",
          "name": "stdout",
          "text": "Collecting shap\n  Downloading shap-0.46.0-cp310-cp310-manylinux_2_12_x86_64.manylinux2010_x86_64.manylinux_2_17_x86_64.manylinux2014_x86_64.whl (540 kB)\n\u001b[2K     \u001b[90m━━━━━━━━━━━━━━━━━━━━━━━━━━━━━━━━━━━━━━━\u001b[0m \u001b[32m540.1/540.1 kB\u001b[0m \u001b[31m2.7 MB/s\u001b[0m eta \u001b[36m0:00:00\u001b[0ma \u001b[36m0:00:01\u001b[0m\n\u001b[?25hCollecting packaging>20.9\n  Downloading packaging-24.2-py3-none-any.whl (65 kB)\n\u001b[2K     \u001b[90m━━━━━━━━━━━━━━━━━━━━━━━━━━━━━━━━━━━━━━━━\u001b[0m \u001b[32m65.5/65.5 kB\u001b[0m \u001b[31m8.7 MB/s\u001b[0m eta \u001b[36m0:00:00\u001b[0m\n\u001b[?25hCollecting tqdm>=4.27.0\n  Downloading tqdm-4.67.1-py3-none-any.whl (78 kB)\n\u001b[2K     \u001b[90m━━━━━━━━━━━━━━━━━━━━━━━━━━━━━━━━━━━━━━━━\u001b[0m \u001b[32m78.5/78.5 kB\u001b[0m \u001b[31m9.6 MB/s\u001b[0m eta \u001b[36m0:00:00\u001b[0m\n\u001b[?25hCollecting slicer==0.0.8\n  Downloading slicer-0.0.8-py3-none-any.whl (15 kB)\nCollecting cloudpickle\n  Downloading cloudpickle-3.1.1-py3-none-any.whl (20 kB)\nCollecting pandas\n  Downloading pandas-2.2.3-cp310-cp310-manylinux_2_17_x86_64.manylinux2014_x86_64.whl (13.1 MB)\n\u001b[2K     \u001b[90m━━━━━━━━━━━━━━━━━━━━━━━━━━━━━━━━━━━━━━━━\u001b[0m \u001b[32m13.1/13.1 MB\u001b[0m \u001b[31m44.7 MB/s\u001b[0m eta \u001b[36m0:00:00\u001b[0m00:01\u001b[0m00:01\u001b[0m\n\u001b[?25hCollecting scipy\n  Downloading scipy-1.15.2-cp310-cp310-manylinux_2_17_x86_64.manylinux2014_x86_64.whl (37.6 MB)\n\u001b[2K     \u001b[90m━━━━━━━━━━━━━━━━━━━━━━━━━━━━━━━━━━━━━━━━\u001b[0m \u001b[32m37.6/37.6 MB\u001b[0m \u001b[31m15.3 MB/s\u001b[0m eta \u001b[36m0:00:00\u001b[0m00:01\u001b[0m00:01\u001b[0m\n\u001b[?25hCollecting scikit-learn\n  Downloading scikit_learn-1.6.1-cp310-cp310-manylinux_2_17_x86_64.manylinux2014_x86_64.whl (13.5 MB)\n\u001b[2K     \u001b[90m━━━━━━━━━━━━━━━━━━━━━━━━━━━━━━━━━━━━━━━━\u001b[0m \u001b[32m13.5/13.5 MB\u001b[0m \u001b[31m34.2 MB/s\u001b[0m eta \u001b[36m0:00:00\u001b[0m00:01\u001b[0m00:01\u001b[0m\n\u001b[?25hCollecting numba\n  Downloading numba-0.61.0-cp310-cp310-manylinux2014_x86_64.manylinux_2_17_x86_64.whl (3.8 MB)\n\u001b[2K     \u001b[90m━━━━━━━━━━━━━━━━━━━━━━━━━━━━━━━━━━━━━━━━\u001b[0m \u001b[32m3.8/3.8 MB\u001b[0m \u001b[31m49.7 MB/s\u001b[0m eta \u001b[36m0:00:00\u001b[0m00:01\u001b[0m:00:01\u001b[0m\n\u001b[?25hCollecting numpy\n  Downloading numpy-2.2.3-cp310-cp310-manylinux_2_17_x86_64.manylinux2014_x86_64.whl (16.4 MB)\n\u001b[2K     \u001b[90m━━━━━━━━━━━━━━━━━━━━━━━━━━━━━━━━━━━━━━━━\u001b[0m \u001b[32m16.4/16.4 MB\u001b[0m \u001b[31m33.1 MB/s\u001b[0m eta \u001b[36m0:00:00\u001b[0m00:01\u001b[0m00:01\u001b[0m\n\u001b[?25hCollecting llvmlite<0.45,>=0.44.0dev0\n  Downloading llvmlite-0.44.0-cp310-cp310-manylinux_2_17_x86_64.manylinux2014_x86_64.whl (42.4 MB)\n\u001b[2K     \u001b[90m━━━━━━━━━━━━━━━━━━━━━━━━━━━━━━━━━━━━━━━━\u001b[0m \u001b[32m42.4/42.4 MB\u001b[0m \u001b[31m13.2 MB/s\u001b[0m eta \u001b[36m0:00:00\u001b[0m00:01\u001b[0m00:01\u001b[0m\n\u001b[?25hCollecting numpy\n  Downloading numpy-2.1.3-cp310-cp310-manylinux_2_17_x86_64.manylinux2014_x86_64.whl (16.3 MB)\n\u001b[2K     \u001b[90m━━━━━━━━━━━━━━━━━━━━━━━━━━━━━━━━━━━━━━━━\u001b[0m \u001b[32m16.3/16.3 MB\u001b[0m \u001b[31m37.4 MB/s\u001b[0m eta \u001b[36m0:00:00\u001b[0m00:01\u001b[0m00:01\u001b[0m\n\u001b[?25hCollecting python-dateutil>=2.8.2\n  Downloading python_dateutil-2.9.0.post0-py2.py3-none-any.whl (229 kB)\n\u001b[2K     \u001b[90m━━━━━━━━━━━━━━━━━━━━━━━━━━━━━━━━━━━━━━\u001b[0m \u001b[32m229.9/229.9 kB\u001b[0m \u001b[31m19.3 MB/s\u001b[0m eta \u001b[36m0:00:00\u001b[0m\n\u001b[?25hCollecting tzdata>=2022.7\n  Downloading tzdata-2025.1-py2.py3-none-any.whl (346 kB)\n\u001b[2K     \u001b[90m━━━━━━━━━━━━━━━━━━━━━━━━━━━━━━━━━━━━━━\u001b[0m \u001b[32m346.8/346.8 kB\u001b[0m \u001b[31m33.6 MB/s\u001b[0m eta \u001b[36m0:00:00\u001b[0m\n\u001b[?25hCollecting pytz>=2020.1\n  Downloading pytz-2025.1-py2.py3-none-any.whl (507 kB)\n\u001b[2K     \u001b[90m━━━━━━━━━━━━━━━━━━━━━━━━━━━━━━━━━━━━━━\u001b[0m \u001b[32m507.9/507.9 kB\u001b[0m \u001b[31m43.0 MB/s\u001b[0m eta \u001b[36m0:00:00\u001b[0m\n\u001b[?25hCollecting joblib>=1.2.0\n  Downloading joblib-1.4.2-py3-none-any.whl (301 kB)\n\u001b[2K     \u001b[90m━━━━━━━━━━━━━━━━━━━━━━━━━━━━━━━━━━━━━━\u001b[0m \u001b[32m301.8/301.8 kB\u001b[0m \u001b[31m30.6 MB/s\u001b[0m eta \u001b[36m0:00:00\u001b[0m\n\u001b[?25hCollecting threadpoolctl>=3.1.0\n  Downloading threadpoolctl-3.5.0-py3-none-any.whl (18 kB)\nCollecting six>=1.5\n  Downloading six-1.17.0-py2.py3-none-any.whl (11 kB)\nInstalling collected packages: pytz, tzdata, tqdm, threadpoolctl, slicer, six, packaging, numpy, llvmlite, joblib, cloudpickle, scipy, python-dateutil, numba, scikit-learn, pandas, shap\n\u001b[33m  WARNING: The script tqdm is installed in '/home/azureuser/.local/bin' which is not on PATH.\n  Consider adding this directory to PATH or, if you prefer to suppress this warning, use --no-warn-script-location.\u001b[0m\u001b[33m\n\u001b[0m\u001b[33m  WARNING: The scripts f2py and numpy-config are installed in '/home/azureuser/.local/bin' which is not on PATH.\n  Consider adding this directory to PATH or, if you prefer to suppress this warning, use --no-warn-script-location.\u001b[0m\u001b[33m\n\u001b[0m\u001b[31mERROR: pip's dependency resolver does not currently take into account all the packages that are installed. This behaviour is the source of the following dependency conflicts.\npandas-ml 0.6.1 requires enum34, which is not installed.\nmkl-fft 1.3.8 requires mkl, which is not installed.\nthinc 8.2.5 requires numpy<2.0.0,>=1.19.0; python_version >= \"3.9\", but you have numpy 2.1.3 which is incompatible.\ntensorflow 2.17.0 requires ml-dtypes<0.5.0,>=0.3.1, but you have ml-dtypes 0.5.0 which is incompatible.\ntensorflow 2.17.0 requires numpy<2.0.0,>=1.23.5; python_version <= \"3.11\", but you have numpy 2.1.3 which is incompatible.\nresponsibleai 0.36.0 requires networkx<=2.5, but you have networkx 3.3 which is incompatible.\nresponsibleai 0.36.0 requires numba<=0.58.1, but you have numba 0.61.0 which is incompatible.\nresponsibleai 0.36.0 requires numpy<=1.26.2,>=1.17.2, but you have numpy 2.1.3 which is incompatible.\nresponsibleai 0.36.0 requires pandas<2.0.0,>=0.25.1, but you have pandas 2.2.3 which is incompatible.\nresponsibleai 0.36.0 requires scikit-learn!=1.1,<=1.5.1,>=0.22.1, but you have scikit-learn 1.6.1 which is incompatible.\nraiwidgets 0.36.0 requires numpy<=1.26.2,>=1.17.2, but you have numpy 2.1.3 which is incompatible.\nraiwidgets 0.36.0 requires pandas<2.0.0,>=0.25.1, but you have pandas 2.2.3 which is incompatible.\nmlflow-skinny 2.15.0 requires importlib-metadata!=4.7.0,<8,>=3.7.0, but you have importlib-metadata 8.2.0 which is incompatible.\nmlflow-skinny 2.15.0 requires pytz<2025, but you have pytz 2025.1 which is incompatible.\nml-wrappers 0.5.5 requires pandas<2.0.0, but you have pandas 2.2.3 which is incompatible.\njupyterlab-topbar 0.6.1 requires jupyterlab~=3.0, but you have jupyterlab 4.0.11 which is incompatible.\njupyterlab-system-monitor 0.8.0 requires jupyterlab~=3.0, but you have jupyterlab 4.0.11 which is incompatible.\ninterpret-community 0.31.0 requires pandas<2.0.0, but you have pandas 2.2.3 which is incompatible.\ninterpret-community 0.31.0 requires shap<=0.44.0,>=0.20.0, but you have shap 0.46.0 which is incompatible.\nerroranalysis 0.5.4 requires pandas<2.0.0,>=0.25.1, but you have pandas 2.2.3 which is incompatible.\neconml 0.15.1 requires numpy<2, but you have numpy 2.1.3 which is incompatible.\neconml 0.15.1 requires scikit-learn<1.6,>=1.0, but you have scikit-learn 1.6.1 which is incompatible.\neconml 0.15.1 requires shap<0.44.0,>=0.38.1, but you have shap 0.46.0 which is incompatible.\ndice-ml 0.11 requires pandas<2.0.0, but you have pandas 2.2.3 which is incompatible.\ndask-sql 2024.5.0 requires dask[dataframe]>=2024.4.1, but you have dask 2023.2.0 which is incompatible.\ndask-sql 2024.5.0 requires distributed>=2024.4.1, but you have distributed 2023.2.0 which is incompatible.\ndask-expr 1.1.14 requires dask==2024.9.0, but you have dask 2023.2.0 which is incompatible.\nazureml-training-tabular 1.57.0 requires joblib==1.2.0, but you have joblib 1.4.2 which is incompatible.\nazureml-training-tabular 1.57.0 requires numpy<=1.23.5,>=1.16.0; python_version >= \"3.8\", but you have numpy 2.1.3 which is incompatible.\nazureml-training-tabular 1.57.0 requires pandas==1.3.5, but you have pandas 2.2.3 which is incompatible.\nazureml-training-tabular 1.57.0 requires scikit-learn<=1.6,>=1.0.0, but you have scikit-learn 1.6.1 which is incompatible.\nazureml-training-tabular 1.57.0 requires scipy<1.11.0,>=1.0.0, but you have scipy 1.15.2 which is incompatible.\nazureml-train-automl-runtime 1.57.0 requires numpy<=1.23.5,>=1.16.0; python_version >= \"3.8\", but you have numpy 2.1.3 which is incompatible.\nazureml-train-automl-runtime 1.57.0 requires pandas==1.3.5, but you have pandas 2.2.3 which is incompatible.\nazureml-train-automl-runtime 1.57.0 requires scikit-learn~=1.5.1, but you have scikit-learn 1.6.1 which is incompatible.\nazureml-train-automl-runtime 1.57.0 requires scipy<=1.11.0,>=1.0.0, but you have scipy 1.15.2 which is incompatible.\nazureml-opendatasets 1.57.0 requires numpy<=2.0.0,>=1.16.0, but you have numpy 2.1.3 which is incompatible.\nazureml-opendatasets 1.57.0 requires pandas<=2.0.0,>=0.21.0, but you have pandas 2.2.3 which is incompatible.\nazureml-interpret 1.57.0 requires numba<=0.56.4, but you have numba 0.61.0 which is incompatible.\nazureml-interpret 1.57.0 requires numpy<=1.23.5; python_version >= \"3.8\", but you have numpy 2.1.3 which is incompatible.\nazureml-defaults 1.57.0 requires azureml-inference-server-http~=1.2.1, but you have azureml-inference-server-http 1.4.0 which is incompatible.\nazureml-dataset-runtime 1.57.0 requires numpy!=1.19.3,<1.24; sys_platform == \"linux\", but you have numpy 2.1.3 which is incompatible.\nazureml-dataprep 5.1.6 requires cloudpickle<3.0.0,>=1.1.0, but you have cloudpickle 3.1.1 which is incompatible.\nazureml-automl-runtime 1.57.0 requires joblib==1.2.0, but you have joblib 1.4.2 which is incompatible.\nazureml-automl-runtime 1.57.0 requires numpy<=1.23.5,>=1.16.0; python_version >= \"3.8\", but you have numpy 2.1.3 which is incompatible.\nazureml-automl-runtime 1.57.0 requires pandas==1.3.5, but you have pandas 2.2.3 which is incompatible.\nazureml-automl-runtime 1.57.0 requires scikit-learn~=1.5.1, but you have scikit-learn 1.6.1 which is incompatible.\nazureml-automl-runtime 1.57.0 requires scipy<=1.11.0,>=1.0.0, but you have scipy 1.15.2 which is incompatible.\nazureml-automl-dnn-nlp 1.57.0 requires torch==1.13.1, but you have torch 2.4.1 which is incompatible.\nazure-cli 2.64.0 requires azure-keyvault-keys==4.9.0b3, but you have azure-keyvault-keys 4.8.0 which is incompatible.\nazure-cli 2.64.0 requires websocket-client~=1.3.1, but you have websocket-client 1.8.0 which is incompatible.\nadlfs 2024.7.0 requires fsspec>=2023.12.0, but you have fsspec 2023.10.0 which is incompatible.\naccelerate 0.33.0 requires numpy<2.0.0,>=1.17, but you have numpy 2.1.3 which is incompatible.\u001b[0m\u001b[31m\n\u001b[0mSuccessfully installed cloudpickle-3.1.1 joblib-1.4.2 llvmlite-0.44.0 numba-0.61.0 numpy-2.1.3 packaging-24.2 pandas-2.2.3 python-dateutil-2.9.0.post0 pytz-2025.1 scikit-learn-1.6.1 scipy-1.15.2 shap-0.46.0 six-1.17.0 slicer-0.0.8 threadpoolctl-3.5.0 tqdm-4.67.1 tzdata-2025.1\n"
        }
      ],
      "execution_count": 2,
      "metadata": {}
    },
    {
      "cell_type": "code",
      "source": [
        "!pip install numpy==1.24.3 pandas==1.3.5 scikit-learn==1.5.1 scipy==1.10.1 --force-reinstall --user\n"
      ],
      "outputs": [
        {
          "output_type": "stream",
          "name": "stdout",
          "text": "Collecting numpy==1.24.3\n  Using cached numpy-1.24.3-cp310-cp310-manylinux_2_17_x86_64.manylinux2014_x86_64.whl (17.3 MB)\nCollecting pandas==1.3.5\n  Using cached pandas-1.3.5-cp310-cp310-manylinux_2_17_x86_64.manylinux2014_x86_64.whl (11.5 MB)\nCollecting scikit-learn==1.5.1\n  Using cached scikit_learn-1.5.1-cp310-cp310-manylinux_2_17_x86_64.manylinux2014_x86_64.whl (13.4 MB)\nCollecting scipy==1.10.1\n  Using cached scipy-1.10.1-cp310-cp310-manylinux_2_17_x86_64.manylinux2014_x86_64.whl (34.4 MB)\nCollecting pytz>=2017.3\n  Using cached pytz-2025.1-py2.py3-none-any.whl (507 kB)\nCollecting python-dateutil>=2.7.3\n  Using cached python_dateutil-2.9.0.post0-py2.py3-none-any.whl (229 kB)\nCollecting threadpoolctl>=3.1.0\n  Using cached threadpoolctl-3.5.0-py3-none-any.whl (18 kB)\nCollecting joblib>=1.2.0\n  Using cached joblib-1.4.2-py3-none-any.whl (301 kB)\nCollecting six>=1.5\n  Using cached six-1.17.0-py2.py3-none-any.whl (11 kB)\nInstalling collected packages: pytz, threadpoolctl, six, numpy, joblib, scipy, python-dateutil, scikit-learn, pandas\n  Attempting uninstall: pytz\n    Found existing installation: pytz 2025.1\n    Uninstalling pytz-2025.1:\n      Successfully uninstalled pytz-2025.1\n  Attempting uninstall: threadpoolctl\n    Found existing installation: threadpoolctl 3.5.0\n    Uninstalling threadpoolctl-3.5.0:\n      Successfully uninstalled threadpoolctl-3.5.0\n  Attempting uninstall: six\n    Found existing installation: six 1.17.0\n    Uninstalling six-1.17.0:\n      Successfully uninstalled six-1.17.0\n  Attempting uninstall: numpy\n    Found existing installation: numpy 1.24.3\n    Uninstalling numpy-1.24.3:\n      Successfully uninstalled numpy-1.24.3\n\u001b[33m  WARNING: The scripts f2py, f2py3 and f2py3.10 are installed in '/home/azureuser/.local/bin' which is not on PATH.\n  Consider adding this directory to PATH or, if you prefer to suppress this warning, use --no-warn-script-location.\u001b[0m\u001b[33m\n\u001b[0m  Attempting uninstall: joblib\n    Found existing installation: joblib 1.4.2\n    Uninstalling joblib-1.4.2:\n      Successfully uninstalled joblib-1.4.2\n  Attempting uninstall: scipy\n    Found existing installation: scipy 1.10.1\n    Uninstalling scipy-1.10.1:\n      Successfully uninstalled scipy-1.10.1\n  Attempting uninstall: python-dateutil\n    Found existing installation: python-dateutil 2.9.0.post0\n    Uninstalling python-dateutil-2.9.0.post0:\n      Successfully uninstalled python-dateutil-2.9.0.post0\n  Attempting uninstall: scikit-learn\n    Found existing installation: scikit-learn 1.5.1\n    Uninstalling scikit-learn-1.5.1:\n      Successfully uninstalled scikit-learn-1.5.1\n  Attempting uninstall: pandas\n    Found existing installation: pandas 1.3.5\n    Uninstalling pandas-1.3.5:\n      Successfully uninstalled pandas-1.3.5\n\u001b[31mERROR: pip's dependency resolver does not currently take into account all the packages that are installed. This behaviour is the source of the following dependency conflicts.\npandas-ml 0.6.1 requires enum34, which is not installed.\nmkl-fft 1.3.8 requires mkl, which is not installed.\ntensorflow 2.17.0 requires ml-dtypes<0.5.0,>=0.3.1, but you have ml-dtypes 0.5.0 which is incompatible.\nresponsibleai 0.36.0 requires networkx<=2.5, but you have networkx 3.3 which is incompatible.\nresponsibleai 0.36.0 requires numba<=0.58.1, but you have numba 0.61.0 which is incompatible.\nmlflow-skinny 2.15.0 requires importlib-metadata!=4.7.0,<8,>=3.7.0, but you have importlib-metadata 8.2.0 which is incompatible.\nmlflow-skinny 2.15.0 requires pytz<2025, but you have pytz 2025.1 which is incompatible.\ninterpret-community 0.31.0 requires shap<=0.44.0,>=0.20.0, but you have shap 0.46.0 which is incompatible.\nfastparquet 2024.5.0 requires pandas>=1.5.0, but you have pandas 1.3.5 which is incompatible.\neconml 0.15.1 requires shap<0.44.0,>=0.38.1, but you have shap 0.46.0 which is incompatible.\ndask-sql 2024.5.0 requires dask[dataframe]>=2024.4.1, but you have dask 2023.2.0 which is incompatible.\ndask-sql 2024.5.0 requires distributed>=2024.4.1, but you have distributed 2023.2.0 which is incompatible.\ndask-sql 2024.5.0 requires pandas>=1.4.0, but you have pandas 1.3.5 which is incompatible.\ndask-expr 1.1.14 requires dask==2024.9.0, but you have dask 2023.2.0 which is incompatible.\ndask-expr 1.1.14 requires pandas>=2, but you have pandas 1.3.5 which is incompatible.\nazureml-training-tabular 1.57.0 requires joblib==1.2.0, but you have joblib 1.4.2 which is incompatible.\nazureml-training-tabular 1.57.0 requires numpy<=1.23.5,>=1.16.0; python_version >= \"3.8\", but you have numpy 1.24.3 which is incompatible.\nazureml-train-automl-runtime 1.57.0 requires numpy<=1.23.5,>=1.16.0; python_version >= \"3.8\", but you have numpy 1.24.3 which is incompatible.\nazureml-interpret 1.57.0 requires numba<=0.56.4, but you have numba 0.61.0 which is incompatible.\nazureml-interpret 1.57.0 requires numpy<=1.23.5; python_version >= \"3.8\", but you have numpy 1.24.3 which is incompatible.\nazureml-defaults 1.57.0 requires azureml-inference-server-http~=1.2.1, but you have azureml-inference-server-http 1.4.0 which is incompatible.\nazureml-dataset-runtime 1.57.0 requires numpy!=1.19.3,<1.24; sys_platform == \"linux\", but you have numpy 1.24.3 which is incompatible.\nazureml-automl-runtime 1.57.0 requires joblib==1.2.0, but you have joblib 1.4.2 which is incompatible.\nazureml-automl-runtime 1.57.0 requires numpy<=1.23.5,>=1.16.0; python_version >= \"3.8\", but you have numpy 1.24.3 which is incompatible.\nazureml-automl-dnn-nlp 1.57.0 requires torch==1.13.1, but you have torch 2.4.1 which is incompatible.\nazure-cli 2.64.0 requires azure-keyvault-keys==4.9.0b3, but you have azure-keyvault-keys 4.8.0 which is incompatible.\nazure-cli 2.64.0 requires websocket-client~=1.3.1, but you have websocket-client 1.8.0 which is incompatible.\nadlfs 2024.7.0 requires fsspec>=2023.12.0, but you have fsspec 2023.10.0 which is incompatible.\u001b[0m\u001b[31m\n\u001b[0mSuccessfully installed joblib-1.4.2 numpy-1.24.3 pandas-1.3.5 python-dateutil-2.9.0.post0 pytz-2025.1 scikit-learn-1.5.1 scipy-1.10.1 six-1.17.0 threadpoolctl-3.5.0\n"
        }
      ],
      "execution_count": 1,
      "metadata": {}
    },
    {
      "cell_type": "code",
      "source": [
        "import shap\n",
        "print(\"SHAP is working correctly!\")\n"
      ],
      "outputs": [
        {
          "output_type": "stream",
          "name": "stderr",
          "text": "/home/azureuser/.local/lib/python3.10/site-packages/tqdm/auto.py:21: TqdmWarning: IProgress not found. Please update jupyter and ipywidgets. See https://ipywidgets.readthedocs.io/en/stable/user_install.html\n  from .autonotebook import tqdm as notebook_tqdm\n"
        },
        {
          "output_type": "stream",
          "name": "stdout",
          "text": "SHAP is working correctly!\n"
        }
      ],
      "execution_count": 2,
      "metadata": {
        "gather": {
          "logged": 1740674596882
        }
      }
    },
    {
      "cell_type": "code",
      "source": [
        "from azureml.core import Workspace, Dataset\n",
        "import pandas as pd\n",
        "\n",
        "# Connect to Azure ML Workspace\n",
        "ws = Workspace.from_config()\n",
        "\n",
        "# Define dataset path from Azure Datastore\n",
        "dataset_path = \"UI/2025-02-27_033705_UTC/marketing_campaign_dataset.csv\"\n",
        "\n",
        "# Load dataset from Azure Blob Storage\n",
        "datastore = ws.datastores['workspaceblobstore']\n",
        "dataset = Dataset.File.from_files(path=(datastore, dataset_path))\n",
        "\n",
        "# Download the dataset to the local environment\n",
        "dataset.download(target_path=\"./\", overwrite=True)\n",
        "local_file_path = \"./marketing_campaign_dataset.csv\"\n",
        "\n",
        "# Load into a Pandas DataFrame\n",
        "df = pd.read_csv(local_file_path)\n",
        "\n",
        "print(\"Dataset Loaded Successfully!\")\n",
        "df.head()\n"
      ],
      "outputs": [
        {
          "output_type": "stream",
          "name": "stdout",
          "text": "{'infer_column_types': 'False', 'activity': 'download'}\n{'infer_column_types': 'False', 'activity': 'download', 'activityApp': 'FileDataset'}\nDataset Loaded Successfully!\n"
        },
        {
          "output_type": "execute_result",
          "execution_count": 7,
          "data": {
            "text/plain": "   Campaign_ID              Company Campaign_Type Target_Audience Duration  \\\n0            1  Innovate Industries         Email       Men 18-24  30 days   \n1            2       NexGen Systems         Email     Women 35-44  60 days   \n2            3    Alpha Innovations    Influencer       Men 25-34  30 days   \n3            4   DataTech Solutions       Display        All Ages  60 days   \n4            5       NexGen Systems         Email       Men 25-34  15 days   \n\n  Channel_Used  Conversion_Rate Acquisition_Cost   ROI     Location  Language  \\\n0   Google Ads             0.04       $16,174.00  6.29      Chicago   Spanish   \n1   Google Ads             0.12       $11,566.00  5.61     New York    German   \n2      YouTube             0.07       $10,200.00  7.18  Los Angeles    French   \n3      YouTube             0.11       $12,724.00  5.55        Miami  Mandarin   \n4      YouTube             0.05       $16,452.00  6.50  Los Angeles  Mandarin   \n\n   Clicks  Impressions  Engagement_Score     Customer_Segment        Date  \n0     506         1922                 6    Health & Wellness  2021-01-01  \n1     116         7523                 7         Fashionistas  2021-01-02  \n2     584         7698                 1  Outdoor Adventurers  2021-01-03  \n3     217         1820                 7    Health & Wellness  2021-01-04  \n4     379         4201                 3    Health & Wellness  2021-01-05  ",
            "text/html": "<div>\n<style scoped>\n    .dataframe tbody tr th:only-of-type {\n        vertical-align: middle;\n    }\n\n    .dataframe tbody tr th {\n        vertical-align: top;\n    }\n\n    .dataframe thead th {\n        text-align: right;\n    }\n</style>\n<table border=\"1\" class=\"dataframe\">\n  <thead>\n    <tr style=\"text-align: right;\">\n      <th></th>\n      <th>Campaign_ID</th>\n      <th>Company</th>\n      <th>Campaign_Type</th>\n      <th>Target_Audience</th>\n      <th>Duration</th>\n      <th>Channel_Used</th>\n      <th>Conversion_Rate</th>\n      <th>Acquisition_Cost</th>\n      <th>ROI</th>\n      <th>Location</th>\n      <th>Language</th>\n      <th>Clicks</th>\n      <th>Impressions</th>\n      <th>Engagement_Score</th>\n      <th>Customer_Segment</th>\n      <th>Date</th>\n    </tr>\n  </thead>\n  <tbody>\n    <tr>\n      <th>0</th>\n      <td>1</td>\n      <td>Innovate Industries</td>\n      <td>Email</td>\n      <td>Men 18-24</td>\n      <td>30 days</td>\n      <td>Google Ads</td>\n      <td>0.04</td>\n      <td>$16,174.00</td>\n      <td>6.29</td>\n      <td>Chicago</td>\n      <td>Spanish</td>\n      <td>506</td>\n      <td>1922</td>\n      <td>6</td>\n      <td>Health &amp; Wellness</td>\n      <td>2021-01-01</td>\n    </tr>\n    <tr>\n      <th>1</th>\n      <td>2</td>\n      <td>NexGen Systems</td>\n      <td>Email</td>\n      <td>Women 35-44</td>\n      <td>60 days</td>\n      <td>Google Ads</td>\n      <td>0.12</td>\n      <td>$11,566.00</td>\n      <td>5.61</td>\n      <td>New York</td>\n      <td>German</td>\n      <td>116</td>\n      <td>7523</td>\n      <td>7</td>\n      <td>Fashionistas</td>\n      <td>2021-01-02</td>\n    </tr>\n    <tr>\n      <th>2</th>\n      <td>3</td>\n      <td>Alpha Innovations</td>\n      <td>Influencer</td>\n      <td>Men 25-34</td>\n      <td>30 days</td>\n      <td>YouTube</td>\n      <td>0.07</td>\n      <td>$10,200.00</td>\n      <td>7.18</td>\n      <td>Los Angeles</td>\n      <td>French</td>\n      <td>584</td>\n      <td>7698</td>\n      <td>1</td>\n      <td>Outdoor Adventurers</td>\n      <td>2021-01-03</td>\n    </tr>\n    <tr>\n      <th>3</th>\n      <td>4</td>\n      <td>DataTech Solutions</td>\n      <td>Display</td>\n      <td>All Ages</td>\n      <td>60 days</td>\n      <td>YouTube</td>\n      <td>0.11</td>\n      <td>$12,724.00</td>\n      <td>5.55</td>\n      <td>Miami</td>\n      <td>Mandarin</td>\n      <td>217</td>\n      <td>1820</td>\n      <td>7</td>\n      <td>Health &amp; Wellness</td>\n      <td>2021-01-04</td>\n    </tr>\n    <tr>\n      <th>4</th>\n      <td>5</td>\n      <td>NexGen Systems</td>\n      <td>Email</td>\n      <td>Men 25-34</td>\n      <td>15 days</td>\n      <td>YouTube</td>\n      <td>0.05</td>\n      <td>$16,452.00</td>\n      <td>6.50</td>\n      <td>Los Angeles</td>\n      <td>Mandarin</td>\n      <td>379</td>\n      <td>4201</td>\n      <td>3</td>\n      <td>Health &amp; Wellness</td>\n      <td>2021-01-05</td>\n    </tr>\n  </tbody>\n</table>\n</div>"
          },
          "metadata": {}
        }
      ],
      "execution_count": 7,
      "metadata": {
        "gather": {
          "logged": 1740673730306
        }
      }
    },
    {
      "cell_type": "code",
      "source": [
        "# Data Cleaning\n",
        "df['Acquisition_Cost'] = df['Acquisition_Cost'].replace('[\\\\$,]', '', regex=True).astype(float)\n",
        "df['ROI'] = df['ROI'].astype(float)\n",
        "df['Date'] = pd.to_datetime(df['Date'], errors='coerce')\n",
        "\n",
        "# Drop missing values in critical columns\n",
        "df.dropna(subset=['Campaign_Type', 'Target_Audience', 'Channel_Used', 'ROI'], inplace=True)\n",
        "\n",
        "# Convert 'Duration' from string (e.g., \"10 days\") to an integer\n",
        "if 'Duration' in df.columns and df['Duration'].dtype == object:\n",
        "    df['Duration'] = df['Duration'].str.replace(' days', '', regex=False).astype(int)\n",
        "\n",
        "# Print dataset shape after cleaning\n",
        "print(f\"Data Cleaning Completed! Final dataset shape: {df.shape}\")\n",
        "df.head()\n"
      ],
      "outputs": [
        {
          "output_type": "stream",
          "name": "stdout",
          "text": "Data Cleaning Completed! Final dataset shape: (200000, 16)\n"
        },
        {
          "output_type": "execute_result",
          "execution_count": 8,
          "data": {
            "text/plain": "   Campaign_ID              Company Campaign_Type Target_Audience  Duration  \\\n0            1  Innovate Industries         Email       Men 18-24        30   \n1            2       NexGen Systems         Email     Women 35-44        60   \n2            3    Alpha Innovations    Influencer       Men 25-34        30   \n3            4   DataTech Solutions       Display        All Ages        60   \n4            5       NexGen Systems         Email       Men 25-34        15   \n\n  Channel_Used  Conversion_Rate  Acquisition_Cost   ROI     Location  \\\n0   Google Ads             0.04           16174.0  6.29      Chicago   \n1   Google Ads             0.12           11566.0  5.61     New York   \n2      YouTube             0.07           10200.0  7.18  Los Angeles   \n3      YouTube             0.11           12724.0  5.55        Miami   \n4      YouTube             0.05           16452.0  6.50  Los Angeles   \n\n   Language  Clicks  Impressions  Engagement_Score     Customer_Segment  \\\n0   Spanish     506         1922                 6    Health & Wellness   \n1    German     116         7523                 7         Fashionistas   \n2    French     584         7698                 1  Outdoor Adventurers   \n3  Mandarin     217         1820                 7    Health & Wellness   \n4  Mandarin     379         4201                 3    Health & Wellness   \n\n        Date  \n0 2021-01-01  \n1 2021-01-02  \n2 2021-01-03  \n3 2021-01-04  \n4 2021-01-05  ",
            "text/html": "<div>\n<style scoped>\n    .dataframe tbody tr th:only-of-type {\n        vertical-align: middle;\n    }\n\n    .dataframe tbody tr th {\n        vertical-align: top;\n    }\n\n    .dataframe thead th {\n        text-align: right;\n    }\n</style>\n<table border=\"1\" class=\"dataframe\">\n  <thead>\n    <tr style=\"text-align: right;\">\n      <th></th>\n      <th>Campaign_ID</th>\n      <th>Company</th>\n      <th>Campaign_Type</th>\n      <th>Target_Audience</th>\n      <th>Duration</th>\n      <th>Channel_Used</th>\n      <th>Conversion_Rate</th>\n      <th>Acquisition_Cost</th>\n      <th>ROI</th>\n      <th>Location</th>\n      <th>Language</th>\n      <th>Clicks</th>\n      <th>Impressions</th>\n      <th>Engagement_Score</th>\n      <th>Customer_Segment</th>\n      <th>Date</th>\n    </tr>\n  </thead>\n  <tbody>\n    <tr>\n      <th>0</th>\n      <td>1</td>\n      <td>Innovate Industries</td>\n      <td>Email</td>\n      <td>Men 18-24</td>\n      <td>30</td>\n      <td>Google Ads</td>\n      <td>0.04</td>\n      <td>16174.0</td>\n      <td>6.29</td>\n      <td>Chicago</td>\n      <td>Spanish</td>\n      <td>506</td>\n      <td>1922</td>\n      <td>6</td>\n      <td>Health &amp; Wellness</td>\n      <td>2021-01-01</td>\n    </tr>\n    <tr>\n      <th>1</th>\n      <td>2</td>\n      <td>NexGen Systems</td>\n      <td>Email</td>\n      <td>Women 35-44</td>\n      <td>60</td>\n      <td>Google Ads</td>\n      <td>0.12</td>\n      <td>11566.0</td>\n      <td>5.61</td>\n      <td>New York</td>\n      <td>German</td>\n      <td>116</td>\n      <td>7523</td>\n      <td>7</td>\n      <td>Fashionistas</td>\n      <td>2021-01-02</td>\n    </tr>\n    <tr>\n      <th>2</th>\n      <td>3</td>\n      <td>Alpha Innovations</td>\n      <td>Influencer</td>\n      <td>Men 25-34</td>\n      <td>30</td>\n      <td>YouTube</td>\n      <td>0.07</td>\n      <td>10200.0</td>\n      <td>7.18</td>\n      <td>Los Angeles</td>\n      <td>French</td>\n      <td>584</td>\n      <td>7698</td>\n      <td>1</td>\n      <td>Outdoor Adventurers</td>\n      <td>2021-01-03</td>\n    </tr>\n    <tr>\n      <th>3</th>\n      <td>4</td>\n      <td>DataTech Solutions</td>\n      <td>Display</td>\n      <td>All Ages</td>\n      <td>60</td>\n      <td>YouTube</td>\n      <td>0.11</td>\n      <td>12724.0</td>\n      <td>5.55</td>\n      <td>Miami</td>\n      <td>Mandarin</td>\n      <td>217</td>\n      <td>1820</td>\n      <td>7</td>\n      <td>Health &amp; Wellness</td>\n      <td>2021-01-04</td>\n    </tr>\n    <tr>\n      <th>4</th>\n      <td>5</td>\n      <td>NexGen Systems</td>\n      <td>Email</td>\n      <td>Men 25-34</td>\n      <td>15</td>\n      <td>YouTube</td>\n      <td>0.05</td>\n      <td>16452.0</td>\n      <td>6.50</td>\n      <td>Los Angeles</td>\n      <td>Mandarin</td>\n      <td>379</td>\n      <td>4201</td>\n      <td>3</td>\n      <td>Health &amp; Wellness</td>\n      <td>2021-01-05</td>\n    </tr>\n  </tbody>\n</table>\n</div>"
          },
          "metadata": {}
        }
      ],
      "execution_count": 8,
      "metadata": {
        "gather": {
          "logged": 1740673730646
        }
      }
    },
    {
      "cell_type": "code",
      "source": [
        "# One-hot encoding categorical variables\n",
        "categorical_cols = ['Company', 'Campaign_Type', 'Target_Audience', 'Channel_Used', 'Location', 'Language', 'Customer_Segment']\n",
        "df_encoded = pd.get_dummies(df, columns=categorical_cols, drop_first=True)\n",
        "\n",
        "# Print final shape\n",
        "print(f\"Feature Engineering Completed! Encoded dataset shape: {df_encoded.shape}\")\n",
        "df_encoded.head()\n"
      ],
      "outputs": [
        {
          "output_type": "stream",
          "name": "stdout",
          "text": "Feature Engineering Completed! Encoded dataset shape: (200000, 38)\n"
        },
        {
          "output_type": "execute_result",
          "execution_count": 9,
          "data": {
            "text/plain": "   Campaign_ID  Duration  Conversion_Rate  Acquisition_Cost   ROI  Clicks  \\\n0            1        30             0.04           16174.0  6.29     506   \n1            2        60             0.12           11566.0  5.61     116   \n2            3        30             0.07           10200.0  7.18     584   \n3            4        60             0.11           12724.0  5.55     217   \n4            5        15             0.05           16452.0  6.50     379   \n\n   Impressions  Engagement_Score       Date  Company_DataTech Solutions  ...  \\\n0         1922                 6 2021-01-01                           0  ...   \n1         7523                 7 2021-01-02                           0  ...   \n2         7698                 1 2021-01-03                           0  ...   \n3         1820                 7 2021-01-04                           1  ...   \n4         4201                 3 2021-01-05                           0  ...   \n\n   Location_Miami  Location_New York  Language_French  Language_German  \\\n0               0                  0                0                0   \n1               0                  1                0                1   \n2               0                  0                1                0   \n3               1                  0                0                0   \n4               0                  0                0                0   \n\n   Language_Mandarin  Language_Spanish  Customer_Segment_Foodies  \\\n0                  0                 1                         0   \n1                  0                 0                         0   \n2                  0                 0                         0   \n3                  1                 0                         0   \n4                  1                 0                         0   \n\n   Customer_Segment_Health & Wellness  Customer_Segment_Outdoor Adventurers  \\\n0                                   1                                     0   \n1                                   0                                     0   \n2                                   0                                     1   \n3                                   1                                     0   \n4                                   1                                     0   \n\n   Customer_Segment_Tech Enthusiasts  \n0                                  0  \n1                                  0  \n2                                  0  \n3                                  0  \n4                                  0  \n\n[5 rows x 38 columns]",
            "text/html": "<div>\n<style scoped>\n    .dataframe tbody tr th:only-of-type {\n        vertical-align: middle;\n    }\n\n    .dataframe tbody tr th {\n        vertical-align: top;\n    }\n\n    .dataframe thead th {\n        text-align: right;\n    }\n</style>\n<table border=\"1\" class=\"dataframe\">\n  <thead>\n    <tr style=\"text-align: right;\">\n      <th></th>\n      <th>Campaign_ID</th>\n      <th>Duration</th>\n      <th>Conversion_Rate</th>\n      <th>Acquisition_Cost</th>\n      <th>ROI</th>\n      <th>Clicks</th>\n      <th>Impressions</th>\n      <th>Engagement_Score</th>\n      <th>Date</th>\n      <th>Company_DataTech Solutions</th>\n      <th>...</th>\n      <th>Location_Miami</th>\n      <th>Location_New York</th>\n      <th>Language_French</th>\n      <th>Language_German</th>\n      <th>Language_Mandarin</th>\n      <th>Language_Spanish</th>\n      <th>Customer_Segment_Foodies</th>\n      <th>Customer_Segment_Health &amp; Wellness</th>\n      <th>Customer_Segment_Outdoor Adventurers</th>\n      <th>Customer_Segment_Tech Enthusiasts</th>\n    </tr>\n  </thead>\n  <tbody>\n    <tr>\n      <th>0</th>\n      <td>1</td>\n      <td>30</td>\n      <td>0.04</td>\n      <td>16174.0</td>\n      <td>6.29</td>\n      <td>506</td>\n      <td>1922</td>\n      <td>6</td>\n      <td>2021-01-01</td>\n      <td>0</td>\n      <td>...</td>\n      <td>0</td>\n      <td>0</td>\n      <td>0</td>\n      <td>0</td>\n      <td>0</td>\n      <td>1</td>\n      <td>0</td>\n      <td>1</td>\n      <td>0</td>\n      <td>0</td>\n    </tr>\n    <tr>\n      <th>1</th>\n      <td>2</td>\n      <td>60</td>\n      <td>0.12</td>\n      <td>11566.0</td>\n      <td>5.61</td>\n      <td>116</td>\n      <td>7523</td>\n      <td>7</td>\n      <td>2021-01-02</td>\n      <td>0</td>\n      <td>...</td>\n      <td>0</td>\n      <td>1</td>\n      <td>0</td>\n      <td>1</td>\n      <td>0</td>\n      <td>0</td>\n      <td>0</td>\n      <td>0</td>\n      <td>0</td>\n      <td>0</td>\n    </tr>\n    <tr>\n      <th>2</th>\n      <td>3</td>\n      <td>30</td>\n      <td>0.07</td>\n      <td>10200.0</td>\n      <td>7.18</td>\n      <td>584</td>\n      <td>7698</td>\n      <td>1</td>\n      <td>2021-01-03</td>\n      <td>0</td>\n      <td>...</td>\n      <td>0</td>\n      <td>0</td>\n      <td>1</td>\n      <td>0</td>\n      <td>0</td>\n      <td>0</td>\n      <td>0</td>\n      <td>0</td>\n      <td>1</td>\n      <td>0</td>\n    </tr>\n    <tr>\n      <th>3</th>\n      <td>4</td>\n      <td>60</td>\n      <td>0.11</td>\n      <td>12724.0</td>\n      <td>5.55</td>\n      <td>217</td>\n      <td>1820</td>\n      <td>7</td>\n      <td>2021-01-04</td>\n      <td>1</td>\n      <td>...</td>\n      <td>1</td>\n      <td>0</td>\n      <td>0</td>\n      <td>0</td>\n      <td>1</td>\n      <td>0</td>\n      <td>0</td>\n      <td>1</td>\n      <td>0</td>\n      <td>0</td>\n    </tr>\n    <tr>\n      <th>4</th>\n      <td>5</td>\n      <td>15</td>\n      <td>0.05</td>\n      <td>16452.0</td>\n      <td>6.50</td>\n      <td>379</td>\n      <td>4201</td>\n      <td>3</td>\n      <td>2021-01-05</td>\n      <td>0</td>\n      <td>...</td>\n      <td>0</td>\n      <td>0</td>\n      <td>0</td>\n      <td>0</td>\n      <td>1</td>\n      <td>0</td>\n      <td>0</td>\n      <td>1</td>\n      <td>0</td>\n      <td>0</td>\n    </tr>\n  </tbody>\n</table>\n<p>5 rows × 38 columns</p>\n</div>"
          },
          "metadata": {}
        }
      ],
      "execution_count": 9,
      "metadata": {
        "gather": {
          "logged": 1740673730992
        }
      }
    },
    {
      "cell_type": "code",
      "source": [
        "from sklearn.model_selection import train_test_split\n",
        "\n",
        "# Define the target variable and features\n",
        "target_col = 'ROI'\n",
        "exclude_cols = ['ROI', 'Conversion_Rate', 'Date', 'Campaign_ID']\n",
        "features = [col for col in df_encoded.columns if col not in exclude_cols]\n",
        "\n",
        "# Split into training and test sets (80% train, 20% test)\n",
        "X_train, X_test, y_train, y_test = train_test_split(df_encoded[features], df_encoded[target_col], test_size=0.2, random_state=42)\n",
        "\n",
        "print(f\"Train-Test Split Completed! Train Shape: {X_train.shape}, Test Shape: {X_test.shape}\")\n"
      ],
      "outputs": [
        {
          "output_type": "stream",
          "name": "stdout",
          "text": "Train-Test Split Completed! Train Shape: (160000, 34), Test Shape: (40000, 34)\n"
        }
      ],
      "execution_count": 10,
      "metadata": {
        "gather": {
          "logged": 1740673731216
        }
      }
    },
    {
      "cell_type": "code",
      "source": [
        "from sklearn.ensemble import RandomForestRegressor, GradientBoostingRegressor\n",
        "from sklearn.metrics import mean_absolute_error, r2_score\n",
        "\n",
        "# Initialize models\n",
        "rf = RandomForestRegressor(n_estimators=100, max_depth=10, random_state=42)\n",
        "gb = GradientBoostingRegressor(n_estimators=100, learning_rate=0.1, random_state=42)\n",
        "\n",
        "# Train models\n",
        "print(\"Training Random Forest Model...\")\n",
        "rf.fit(X_train, y_train)\n",
        "print(\"Random Forest Training Completed!\")\n",
        "\n",
        "print(\"\\nTraining Gradient Boosting Model...\")\n",
        "gb.fit(X_train, y_train)\n",
        "print(\"Gradient Boosting Training Completed!\")\n",
        "\n",
        "# Evaluate models\n",
        "for name, model in [('RandomForest', rf), ('GradientBoosting', gb)]:\n",
        "    y_pred = model.predict(X_test)\n",
        "    print(f\"\\n=== {name} Model Performance ===\")\n",
        "    print(f\"MAE: {mean_absolute_error(y_test, y_pred):.4f}\")\n",
        "    print(f\"R² Score: {r2_score(y_test, y_pred):.4f}\")\n",
        "\n",
        "print(\"\\nModel Training & Evaluation Completed!\")\n"
      ],
      "outputs": [
        {
          "output_type": "stream",
          "name": "stdout",
          "text": "Training Random Forest Model...\nRandom Forest Training Completed!\n\nTraining Gradient Boosting Model...\nGradient Boosting Training Completed!\n\n=== RandomForest Model Performance ===\nMAE: 1.5034\nR² Score: -0.0011\n\n=== GradientBoosting Model Performance ===\nMAE: 1.5034\nR² Score: -0.0011\n\nModel Training & Evaluation Completed!\n"
        }
      ],
      "execution_count": 11,
      "metadata": {
        "gather": {
          "logged": 1740673825692
        }
      }
    },
    {
      "cell_type": "code",
      "source": [
        "# Select the best model\n",
        "best_model_name = max([('RandomForest', rf), ('GradientBoosting', gb)], key=lambda m: r2_score(y_test, m[1].predict(X_test)))[0]\n",
        "final_model = rf if best_model_name == 'RandomForest' else gb\n",
        "\n",
        "print(f\"\\n Best Model Selected: {best_model_name}\")\n"
      ],
      "outputs": [
        {
          "output_type": "stream",
          "name": "stdout",
          "text": "\n Best Model Selected: RandomForest\n"
        }
      ],
      "execution_count": 12,
      "metadata": {
        "gather": {
          "logged": 1740673826032
        }
      }
    },
    {
      "cell_type": "code",
      "source": [
        "def evaluate_allocation(allocation_dict, model):\n",
        "    baseline = df_encoded[features].iloc[0].copy()  # Use the first row as a baseline\n",
        "    scenario_df = pd.DataFrame([baseline.copy() for _ in allocation_dict.keys()])\n",
        "    \n",
        "    for i, ch in enumerate(allocation_dict.keys()):\n",
        "        scenario_df.iloc[i]['Acquisition_Cost'] = allocation_dict[ch]\n",
        "        channel_col_name = f'Channel_Used_{ch}'\n",
        "        if channel_col_name in scenario_df.columns:\n",
        "            scenario_df.iloc[i][channel_col_name] = 1\n",
        "    \n",
        "    # Ensure the DataFrame has the correct column names\n",
        "    scenario_df = scenario_df[features]  # Keep only the trained feature columns\n",
        "    \n",
        "    # Make predictions\n",
        "    preds = model.predict(scenario_df)\n",
        "    \n",
        "    return np.sum(preds)  # Total predicted ROI\n"
      ],
      "outputs": [],
      "execution_count": 13,
      "metadata": {
        "gather": {
          "logged": 1740673826288
        }
      }
    },
    {
      "cell_type": "code",
      "source": [
        "# Running optimization to find the best budget allocation\n",
        "best_alloc, best_alloc_roi = None, -np.inf\n",
        "for _ in range(100):  # Run 100 iterations\n",
        "    alloc = generate_allocation(channels, total_budget)\n",
        "    roi = evaluate_allocation(alloc, final_model)\n",
        "    if roi > best_alloc_roi:\n",
        "        best_alloc, best_alloc_roi = alloc, roi\n",
        "\n",
        "# Print the best allocation strategy\n",
        "print(\"\\nBest Budget Allocation Found:\")\n",
        "for channel, budget in best_alloc.items():\n",
        "    print(f\"{channel}: ${budget:.2f}\")\n",
        "print(f\"\\nPredicted Total ROI: {best_alloc_roi:.2f}\")\n"
      ],
      "outputs": [
        {
          "output_type": "error",
          "ename": "NameError",
          "evalue": "name 'np' is not defined",
          "traceback": [
            "\u001b[0;31m---------------------------------------------------------------------------\u001b[0m",
            "\u001b[0;31mNameError\u001b[0m                                 Traceback (most recent call last)",
            "Cell \u001b[0;32mIn[1], line 2\u001b[0m\n\u001b[1;32m      1\u001b[0m \u001b[38;5;66;03m# Running optimization to find the best budget allocation\u001b[39;00m\n\u001b[0;32m----> 2\u001b[0m best_alloc, best_alloc_roi \u001b[38;5;241m=\u001b[39m \u001b[38;5;28;01mNone\u001b[39;00m, \u001b[38;5;241m-\u001b[39m\u001b[43mnp\u001b[49m\u001b[38;5;241m.\u001b[39minf\n\u001b[1;32m      3\u001b[0m \u001b[38;5;28;01mfor\u001b[39;00m _ \u001b[38;5;129;01min\u001b[39;00m \u001b[38;5;28mrange\u001b[39m(\u001b[38;5;241m100\u001b[39m):  \u001b[38;5;66;03m# Run 100 iterations\u001b[39;00m\n\u001b[1;32m      4\u001b[0m     alloc \u001b[38;5;241m=\u001b[39m generate_allocation(channels, total_budget)\n",
            "\u001b[0;31mNameError\u001b[0m: name 'np' is not defined"
          ]
        }
      ],
      "execution_count": 1,
      "metadata": {
        "gather": {
          "logged": 1740674731901
        }
      }
    }
  ],
  "metadata": {
    "kernelspec": {
      "name": "python310-sdkv2",
      "language": "python",
      "display_name": "Python 3.10 - SDK v2"
    },
    "language_info": {
      "name": "python",
      "version": "3.10.14",
      "mimetype": "text/x-python",
      "codemirror_mode": {
        "name": "ipython",
        "version": 3
      },
      "pygments_lexer": "ipython3",
      "nbconvert_exporter": "python",
      "file_extension": ".py"
    },
    "microsoft": {
      "ms_spell_check": {
        "ms_spell_check_language": "en"
      },
      "host": {
        "AzureML": {
          "notebookHasBeenCompleted": true
        }
      }
    },
    "kernel_info": {
      "name": "python310-sdkv2"
    },
    "nteract": {
      "version": "nteract-front-end@1.0.0"
    }
  },
  "nbformat": 4,
  "nbformat_minor": 2
}